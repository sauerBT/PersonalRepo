{
 "cells": [
  {
   "cell_type": "markdown",
   "metadata": {},
   "source": [
    "Updates the historical dataframe used for last state storage and new Json dataframe used for transmission on an increase in file size."
   ]
  },
  {
   "cell_type": "code",
   "execution_count": 1,
   "metadata": {},
   "outputs": [],
   "source": [
    "def fileOnChangeRead(df,dfJson):  \n",
    "    import os\n",
    "    for f in range(len(df.columns)):\n",
    "        fileSizeNew = os.stat(df[df.columns[f]]['filename']).st_size\n",
    "        if fileSizeNew > int(df[df.columns[f]]['filesizeold']):           \n",
    "            data_mine = pd.read_csv(df[df.columns[f]]['filename'],index_col = 'date_time', parse_dates=[['date', 'time']])\n",
    "            df[df.columns[f]]['latestLineCount'] = len(data_mine.index)\n",
    "            dfJson[df.columns[f]] = [json.loads(data_mine.to_json(orient='index')),list(json.loads(data_mine.to_json(orient='index')).keys())]\n",
    "            df[df.columns[f]]['filesizeold'] = fileSizeNew\n",
    "            df[df.columns[f]]['transmissionFlag'] = True\n",
    "            print(df.columns[f], \" updated.\")\n",
    "    return (df,dfJson)"
   ]
  },
  {
   "cell_type": "markdown",
   "metadata": {},
   "source": [
    "Upon script initialization, reads the history CSV file for the last state of the script and adds re-initializes CSV files that were previously tranmitted and marks new CSV files and CSV file rows for transmission"
   ]
  },
  {
   "cell_type": "code",
   "execution_count": 2,
   "metadata": {},
   "outputs": [],
   "source": [
    "def watchdogInitialize(csvOut):\n",
    "    jsonIndex = ['JsonString','JsonKeys']\n",
    "    dfJson = pd.DataFrame(index = jsonIndex)\n",
    "    try: #CSV file is not empty\n",
    "        df = pd.read_csv(csvOut)\n",
    "        metaDataIndex = pd.Series(['filename','filesizeold','latestLineCount','transmittedLineCount','transmissionFlag','headerlist'])\n",
    "        df = df.set_index(metaDataIndex)\n",
    "        before = dict ([(f, None) for f in os.listdir (path_to_watch)])\n",
    "        #before = dict ([(f, None) for f in list(df.columns)])\n",
    "        #if 'A' in df.columns:\n",
    "        if len(df.columns) >= len(before.keys()):\n",
    "            maxNumOfFiles = len(df.columns)\n",
    "        else:\n",
    "            maxNumOfFiles = len(before.keys())\n",
    "                \n",
    "        for f in reversed(range(maxNumOfFiles)):\n",
    "            if f <= (len(before.keys())-1):\n",
    "                if not list(before.keys())[f] in df.columns:\n",
    "                    print(\"Removing before: \", list(before.keys())[f])\n",
    "                    del before[list(before.keys())[f]]\n",
    "            if f <= (len(df.columns)-1):\n",
    "                if not df.columns[f] in list(before.keys()):\n",
    "                    print(\"Removing df: \", df.columns[f])\n",
    "                    del df[df.columns[f]]\n",
    "            \n",
    "        for f in range(len(df.columns)): \n",
    "            data_mine = pd.read_csv(df[df.columns[f]]['filename'],index_col = 'date_time', parse_dates=[['date', 'time']])\n",
    "            dfJson[df.columns[f]] = [json.loads(data_mine.to_json(orient='index')),list(json.loads(data_mine.to_json(orient='index')).keys())]\n",
    "        print(\"Files re-established: \", list(dfJson.columns))\n",
    "        print('Metadata CSV file read')\n",
    "    \n",
    "    except: #CSV file is empty\n",
    "        metaDataIndex = ['filename','filesizeold','latestLineCount','transmittedLineCount','transmissionFlag','headerlist']\n",
    "        df = pd.DataFrame(index = metaDataIndex)\n",
    "        before = dict()\n",
    "        print('Metadata CSV file not read')\n",
    "    \n",
    "    return(df,dfJson,before)"
   ]
  },
  {
   "cell_type": "markdown",
   "metadata": {},
   "source": [
    "Transmits new CSV rows via websocket"
   ]
  },
  {
   "cell_type": "code",
   "execution_count": null,
   "metadata": {},
   "outputs": [],
   "source": [
    "def websocketTransmission(df,dfJson):\n",
    "    from websocket import create_connection\n",
    "    \n",
    "    for f in range(df.shape[1]):  #iterate through each active file\n",
    "        if df[df.columns.astype(str)[f]]['transmissionFlag']:\n",
    "            print(\"New transmission \", df.columns[f]  )\n",
    "            ws = create_connection(\"ws://192.168.1.112:1880/ws/example\")\n",
    "            #if df[df.columns.astype(str)[f]]['initFileTransmission']:\n",
    "            for j in range(int(df[df.columns.astype(str)[f]]['transmittedLineCount']),int(df[df.columns.astype(str)[f]]['latestLineCount'])):  #iterate through each column index\n",
    "                #print(dfJson[dfJson.columns.astype(str)[f]]['JsonString'][dfJson[dfJson.columns.astype(str)[f]]['JsonKeys'][j]])\n",
    "                ws.send(json.dumps(dfJson[dfJson.columns.astype(str)[f]]['JsonString'][dfJson[dfJson.columns.astype(str)[f]]['JsonKeys'][j]]))\n",
    "                result =  ws.recv()\n",
    "                #print(\"Received '%s'\" % result)\n",
    "                print(j)\n",
    "            ws.close()\n",
    "            df[df.columns.astype(str)[f]]['transmittedLineCount'] = df[df.columns.astype(str)[f]]['latestLineCount']\n",
    "            df[df.columns.astype(str)[f]]['transmissionFlag'] = False \n",
    "    return (df,dfJson)"
   ]
  },
  {
   "cell_type": "markdown",
   "metadata": {},
   "source": [
    "-------------------------------------------------------------------------------\n",
    "Logic Starts Here\n",
    "\n",
    "- needs:\n",
    "    On Change Websocket sends - also add on change for new header columns\n",
    "    On start df additions and websocket sends\n",
    "-------------------------------------------------------------------------------"
   ]
  },
  {
   "cell_type": "code",
   "execution_count": null,
   "metadata": {},
   "outputs": [],
   "source": [
    "import os, time, csv, json\n",
    "import numpy as np\n",
    "import pandas as pd \n",
    "\n",
    "path_to_watch = \"C:\\\\Users\\\\brian\\\\Desktop\\\\Share\" \n",
    "csvOut = \"C:\\\\Users\\\\brian\\\\Desktop\\\\metadata\\\\metadata.csv\" \n",
    "sleepTime = 1\n",
    "[df,dfJson,before] = watchdogInitialize(csvOut)\n",
    " \n",
    "try:\n",
    "    while 1:\n",
    "        time.sleep(sleepTime)\n",
    "        after = dict ([(f, None) for f in os.listdir (path_to_watch)])\n",
    "        added = [f for f in after if not f in before]\n",
    "        removed = [f for f in before if not f in after]\n",
    "        if added: \n",
    "            print(\"Added: \", \", \".join (added))\n",
    "            for f in range(len(added)):  \n",
    "                print(f)\n",
    "                filename = path_to_watch + '\\\\' +  added[f]\n",
    "                fileSizeOld = os.stat(filename).st_size\n",
    "                with open(filename, 'r') as infile:\n",
    "                    reader = csv.DictReader(infile)\n",
    "                    headerList = reader.fieldnames\n",
    "                    data_mine = pd.read_csv(filename,index_col = 'date_time', parse_dates=[['date', 'time']])\n",
    "                    latestLineCount = len(data_mine.index)\n",
    "                    transmittedLineCount = 0\n",
    "                    publishTransmission = True\n",
    "                    df[added[f]] = [filename,fileSizeOld,latestLineCount,transmittedLineCount,publishTransmission,headerList]\n",
    "                    dfJson[added[f]] = [json.loads(data_mine.to_json(orient='index')),list(json.loads(data_mine.to_json(orient='index')).keys())]      \n",
    "            print(\"New files loaded: \", df.columns)\n",
    "        if removed: \n",
    "            print(\"Removed: \", \", \".join (removed))\n",
    "            for f in range(len(removed)): \n",
    "                del df[removed[f]]\n",
    "                if not dfJson.empty:\n",
    "                    del dfJson[removed[f]]\n",
    "        before = after\n",
    "        if not df.empty:\n",
    "            [df,dfJson] = fileOnChangeRead(df,dfJson)\n",
    "            [df,dfJson] = websocketTransmission(df,dfJson)\n",
    "            df.to_csv(csvOut, index=False)   \n",
    "except KeyboardInterrupt:\n",
    "    pass"
   ]
  }
 ],
 "metadata": {
  "kernelspec": {
   "display_name": "Python 3",
   "language": "python",
   "name": "python3"
  },
  "language_info": {
   "codemirror_mode": {
    "name": "ipython",
    "version": 3
   },
   "file_extension": ".py",
   "mimetype": "text/x-python",
   "name": "python",
   "nbconvert_exporter": "python",
   "pygments_lexer": "ipython3",
   "version": "3.7.6"
  }
 },
 "nbformat": 4,
 "nbformat_minor": 4
}
