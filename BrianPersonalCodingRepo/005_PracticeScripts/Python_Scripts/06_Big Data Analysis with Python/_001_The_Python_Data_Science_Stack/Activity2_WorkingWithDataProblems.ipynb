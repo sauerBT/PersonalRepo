{
 "cells": [
  {
   "cell_type": "markdown",
   "metadata": {},
   "source": [
    "Import Numpy and Pandas libraries"
   ]
  },
  {
   "cell_type": "code",
   "execution_count": 89,
   "metadata": {},
   "outputs": [],
   "source": [
    "import numpy as np\n",
    "import pandas as pd"
   ]
  },
  {
   "cell_type": "markdown",
   "metadata": {},
   "source": [
    "Read RadNet dataset from the US Environmental Protection Agency"
   ]
  },
  {
   "cell_type": "code",
   "execution_count": 90,
   "metadata": {},
   "outputs": [
    {
     "name": "stdout",
     "output_type": "stream",
     "text": [
      "    State        Location Date Posted Date Collected     Sample Type    Unit  \\\n",
      "0      ID           Boise  03/30/2011     03/23/2011      Air Filter  pCi/m3   \n",
      "1      ID           Boise  03/30/2011     03/23/2011      Air Filter  pCi/m3   \n",
      "2      AK          Juneau  03/30/2011     03/23/2011      Air Filter  pCi/m3   \n",
      "3      AK            Nome  03/30/2011     03/22/2011      Air Filter  pCi/m3   \n",
      "4      AK            Nome  03/30/2011     03/23/2011      Air Filter  pCi/m3   \n",
      "..    ...             ...         ...            ...             ...     ...   \n",
      "601    CA        Richmond  04/25/2011     04/14/2011  Precipitation    pCi/l   \n",
      "602    CA        Richmond  05/24/2011     04/28/2011  Precipitation    pCi/l   \n",
      "603    UT  Salt Lake City  05/24/2011     04/14/2011  Precipitation    pCi/l   \n",
      "604    UT  Salt Lake City  05/24/2011     04/28/2011  Precipitation    pCi/l   \n",
      "605    NY         Yaphank  05/24/2011     04/28/2011  Precipitation    pCi/l   \n",
      "\n",
      "     Ba-140  Co-60  Cs-134  Cs-136  Cs-137  I-131  I-132  I-133  Te-129  \\\n",
      "0       0.0    0.0       0     NaN       0      0      0    0.0     NaN   \n",
      "1       0.0    0.0       0     NaN       0      0      0    0.0     NaN   \n",
      "2       0.0    0.0       0     NaN       0      0      0    0.0     NaN   \n",
      "3       0.0    0.0       0     NaN       0      0      0    0.0     NaN   \n",
      "4       0.0    0.0       0     NaN       0      0      0    0.0     NaN   \n",
      "..      ...    ...     ...     ...     ...    ...    ...    ...     ...   \n",
      "601     0.0    0.0       9     0.0       8      6      0    0.0     0.0   \n",
      "602     0.0    0.0       7     0.0       6      0      0    0.0     0.0   \n",
      "603     0.0    0.0       0     0.0       0      0      0    0.0     0.0   \n",
      "604     0.0    0.0       0     0.0       0      0      0    0.0     0.0   \n",
      "605     0.0    0.0       0     0.0       0      0      0    0.0     0.0   \n",
      "\n",
      "     Te-129m  Te-132  Ba-140.1  \n",
      "0        NaN       0       NaN  \n",
      "1        NaN       0       NaN  \n",
      "2        NaN       0       NaN  \n",
      "3        NaN       0       NaN  \n",
      "4        NaN       0       NaN  \n",
      "..       ...     ...       ...  \n",
      "601      0.0       0       NaN  \n",
      "602      0.0       0       NaN  \n",
      "603      0.0       0       NaN  \n",
      "604      0.0       0       NaN  \n",
      "605      0.0       0       NaN  \n",
      "\n",
      "[606 rows x 18 columns]\n"
     ]
    }
   ],
   "source": [
    "df = pd.read_csv('radData.csv')\n",
    "print(df)"
   ]
  },
  {
   "cell_type": "markdown",
   "metadata": {},
   "source": [
    "Create a list with numeric columns for radionuclides in the RadNet dataset"
   ]
  },
  {
   "cell_type": "code",
   "execution_count": 91,
   "metadata": {},
   "outputs": [],
   "source": [
    "columns = df[list(df.columns[6:19])]"
   ]
  },
  {
   "cell_type": "markdown",
   "metadata": {},
   "source": [
    "Use the apply method on one column, with a lambda function that compares the Non-detect string."
   ]
  },
  {
   "cell_type": "code",
   "execution_count": 92,
   "metadata": {},
   "outputs": [
    {
     "name": "stdout",
     "output_type": "stream",
     "text": [
      "0     NaN\n",
      "1     NaN\n",
      "2     NaN\n",
      "3     NaN\n",
      "4     NaN\n",
      "       ..\n",
      "601   NaN\n",
      "602   NaN\n",
      "603   NaN\n",
      "604   NaN\n",
      "605   NaN\n",
      "Name: Ba-140.1, Length: 606, dtype: float64\n"
     ]
    }
   ],
   "source": [
    "NDColumn = \"Ba-140.1\"\n",
    "print(columns[\"Ba-140.1\"].apply(lambda x: \"Non-detect\" if x == \"NaN\" else x))"
   ]
  },
  {
   "cell_type": "markdown",
   "metadata": {},
   "source": [
    "Replace the text values with NaN in one column with np.nan"
   ]
  },
  {
   "cell_type": "code",
   "execution_count": 93,
   "metadata": {},
   "outputs": [],
   "source": [
    "df.loc[:, \"Location\"] = df.loc[:, \"Location\"].apply(lambda x: np.nan if x == \"Boise\" else x)"
   ]
  },
  {
   "cell_type": "markdown",
   "metadata": {},
   "source": [
    "Use the same lambda comparison and use the applymap method on several columns at the same time, using the list created in the first step:"
   ]
  },
  {
   "cell_type": "code",
   "execution_count": 94,
   "metadata": {},
   "outputs": [
    {
     "name": "stdout",
     "output_type": "stream",
     "text": [
      "     Ba-140  Co-60  Cs-134  Cs-136  Cs-137  I-131  I-132  I-133  Te-129  \\\n",
      "0       NaN    NaN     NaN     NaN     NaN    NaN    NaN    NaN     NaN   \n",
      "1       NaN    NaN     NaN     NaN     NaN    NaN    NaN    NaN     NaN   \n",
      "2       NaN    NaN     NaN     NaN     NaN    NaN    NaN    NaN     NaN   \n",
      "3       NaN    NaN     NaN     NaN     NaN    NaN    NaN    NaN     NaN   \n",
      "4       NaN    NaN     NaN     NaN     NaN    NaN    NaN    NaN     NaN   \n",
      "..      ...    ...     ...     ...     ...    ...    ...    ...     ...   \n",
      "601     NaN    NaN     9.0     NaN     8.0    6.0    NaN    NaN     NaN   \n",
      "602     NaN    NaN     7.0     NaN     6.0    NaN    NaN    NaN     NaN   \n",
      "603     NaN    NaN     NaN     NaN     NaN    NaN    NaN    NaN     NaN   \n",
      "604     NaN    NaN     NaN     NaN     NaN    NaN    NaN    NaN     NaN   \n",
      "605     NaN    NaN     NaN     NaN     NaN    NaN    NaN    NaN     NaN   \n",
      "\n",
      "     Te-129m  Te-132  Ba-140.1  \n",
      "0        NaN     NaN       NaN  \n",
      "1        NaN     NaN       NaN  \n",
      "2        NaN     NaN       NaN  \n",
      "3        NaN     NaN       NaN  \n",
      "4        NaN     NaN       NaN  \n",
      "..       ...     ...       ...  \n",
      "601      NaN     NaN       NaN  \n",
      "602      NaN     NaN       NaN  \n",
      "603      NaN     NaN       NaN  \n",
      "604      NaN     NaN       NaN  \n",
      "605      NaN     NaN       NaN  \n",
      "\n",
      "[606 rows x 12 columns]\n"
     ]
    }
   ],
   "source": [
    "print(columns.applymap(lambda x: np.nan if x == 0 else x))\n"
   ]
  },
  {
   "cell_type": "markdown",
   "metadata": {},
   "source": [
    "Create a list of the remaining columns that are not numeric:"
   ]
  },
  {
   "cell_type": "code",
   "execution_count": 95,
   "metadata": {},
   "outputs": [
    {
     "name": "stdout",
     "output_type": "stream",
     "text": [
      "    State        Location Date Posted Date Collected     Sample Type    Unit\n",
      "0      ID             NaN  03/30/2011     03/23/2011      Air Filter  pCi/m3\n",
      "1      ID             NaN  03/30/2011     03/23/2011      Air Filter  pCi/m3\n",
      "2      AK          Juneau  03/30/2011     03/23/2011      Air Filter  pCi/m3\n",
      "3      AK            Nome  03/30/2011     03/22/2011      Air Filter  pCi/m3\n",
      "4      AK            Nome  03/30/2011     03/23/2011      Air Filter  pCi/m3\n",
      "..    ...             ...         ...            ...             ...     ...\n",
      "601    CA        Richmond  04/25/2011     04/14/2011  Precipitation    pCi/l\n",
      "602    CA        Richmond  05/24/2011     04/28/2011  Precipitation    pCi/l\n",
      "603    UT  Salt Lake City  05/24/2011     04/14/2011  Precipitation    pCi/l\n",
      "604    UT  Salt Lake City  05/24/2011     04/28/2011  Precipitation    pCi/l\n",
      "605    NY         Yaphank  05/24/2011     04/28/2011  Precipitation    pCi/l\n",
      "\n",
      "[606 rows x 6 columns]\n"
     ]
    }
   ],
   "source": [
    "dfNonNumericColumns = df.dtypes.apply(lambda x: np.nan if x != \"object\" else x)\n",
    "dfNonNumericColumns = dfNonNumericColumns.dropna()\n",
    "dfNonNumericColumns = list(dfNonNumericColumns.index)\n",
    "# df[dfNonNumericColumns]\n",
    "dfNonNumeric = df[dfNonNumericColumns]\n",
    "print(dfNonNumeric)"
   ]
  },
  {
   "cell_type": "markdown",
   "metadata": {},
   "source": [
    "Convert Dataframe objects into floats using the to_numeric function:"
   ]
  },
  {
   "cell_type": "code",
   "execution_count": 97,
   "metadata": {},
   "outputs": [
    {
     "data": {
      "text/plain": [
       "State              object\n",
       "Location           object\n",
       "Date Posted        object\n",
       "Date Collected     object\n",
       "Sample Type        object\n",
       "Unit               object\n",
       "Ba-140            float64\n",
       "Co-60             float64\n",
       "Cs-134              int64\n",
       "Cs-136            float64\n",
       "Cs-137              int64\n",
       "I-131               int64\n",
       "I-132               int64\n",
       "I-133             float64\n",
       "Te-129            float64\n",
       "Te-129m           float64\n",
       "Te-132              int64\n",
       "Ba-140.1          float64\n",
       "dtype: object"
      ]
     },
     "execution_count": 97,
     "metadata": {},
     "output_type": "execute_result"
    }
   ],
   "source": [
    "for col in columns:\n",
    "    df[col] = pd.to_numeric(df[col])\n",
    "df.dtypes"
   ]
  },
  {
   "cell_type": "code",
   "execution_count": null,
   "metadata": {},
   "outputs": [],
   "source": []
  }
 ],
 "metadata": {
  "kernelspec": {
   "display_name": "Python 3",
   "language": "python",
   "name": "python3"
  },
  "language_info": {
   "codemirror_mode": {
    "name": "ipython",
    "version": 3
   },
   "file_extension": ".py",
   "mimetype": "text/x-python",
   "name": "python",
   "nbconvert_exporter": "python",
   "pygments_lexer": "ipython3",
   "version": "3.7.5"
  }
 },
 "nbformat": 4,
 "nbformat_minor": 4
}
