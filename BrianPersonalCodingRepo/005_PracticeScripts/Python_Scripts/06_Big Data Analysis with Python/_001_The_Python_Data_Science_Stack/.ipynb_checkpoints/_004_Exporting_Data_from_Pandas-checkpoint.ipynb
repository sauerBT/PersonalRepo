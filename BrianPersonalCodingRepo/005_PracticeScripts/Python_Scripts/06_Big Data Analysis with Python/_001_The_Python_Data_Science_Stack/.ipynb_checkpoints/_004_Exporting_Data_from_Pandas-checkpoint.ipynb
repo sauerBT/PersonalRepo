{
 "cells": [
  {
   "cell_type": "markdown",
   "metadata": {},
   "source": [
    "Exporting Data from Pandas\n",
    "\n",
    "Goal: Export the values of a Dataframe some other source that can be read outside the Python application, such as CSV(most common), Parquet, and JSON.\n",
    "\n",
    "Exercise 7: Exporting Data in Different Formats\n",
    "\n",
    "Import all the required libraries and read the data from the dataset using the following command:"
   ]
  },
  {
   "cell_type": "code",
   "execution_count": 3,
   "metadata": {},
   "outputs": [
    {
     "data": {
      "text/html": [
       "<div>\n",
       "<style scoped>\n",
       "    .dataframe tbody tr th:only-of-type {\n",
       "        vertical-align: middle;\n",
       "    }\n",
       "\n",
       "    .dataframe tbody tr th {\n",
       "        vertical-align: top;\n",
       "    }\n",
       "\n",
       "    .dataframe thead th {\n",
       "        text-align: right;\n",
       "    }\n",
       "</style>\n",
       "<table border=\"1\" class=\"dataframe\">\n",
       "  <thead>\n",
       "    <tr style=\"text-align: right;\">\n",
       "      <th></th>\n",
       "      <th>State</th>\n",
       "      <th>Location</th>\n",
       "      <th>Date Posted</th>\n",
       "      <th>Date Collected</th>\n",
       "      <th>Sample Type</th>\n",
       "      <th>Unit</th>\n",
       "      <th>Ba-140</th>\n",
       "      <th>Co-60</th>\n",
       "      <th>Cs-134</th>\n",
       "      <th>Cs-136</th>\n",
       "      <th>Cs-137</th>\n",
       "      <th>I-131</th>\n",
       "      <th>I-132</th>\n",
       "      <th>I-133</th>\n",
       "      <th>Te-129</th>\n",
       "      <th>Te-129m</th>\n",
       "      <th>Te-132</th>\n",
       "      <th>Ba-140.1</th>\n",
       "    </tr>\n",
       "  </thead>\n",
       "  <tbody>\n",
       "    <tr>\n",
       "      <th>0</th>\n",
       "      <td>ID</td>\n",
       "      <td>Boise</td>\n",
       "      <td>03/30/2011</td>\n",
       "      <td>03/23/2011</td>\n",
       "      <td>Air Filter</td>\n",
       "      <td>pCi/m3</td>\n",
       "      <td>0.0</td>\n",
       "      <td>0.0</td>\n",
       "      <td>0</td>\n",
       "      <td>NaN</td>\n",
       "      <td>0</td>\n",
       "      <td>0</td>\n",
       "      <td>0</td>\n",
       "      <td>0.0</td>\n",
       "      <td>NaN</td>\n",
       "      <td>NaN</td>\n",
       "      <td>0</td>\n",
       "      <td>NaN</td>\n",
       "    </tr>\n",
       "    <tr>\n",
       "      <th>1</th>\n",
       "      <td>ID</td>\n",
       "      <td>Boise</td>\n",
       "      <td>03/30/2011</td>\n",
       "      <td>03/23/2011</td>\n",
       "      <td>Air Filter</td>\n",
       "      <td>pCi/m3</td>\n",
       "      <td>0.0</td>\n",
       "      <td>0.0</td>\n",
       "      <td>0</td>\n",
       "      <td>NaN</td>\n",
       "      <td>0</td>\n",
       "      <td>0</td>\n",
       "      <td>0</td>\n",
       "      <td>0.0</td>\n",
       "      <td>NaN</td>\n",
       "      <td>NaN</td>\n",
       "      <td>0</td>\n",
       "      <td>NaN</td>\n",
       "    </tr>\n",
       "    <tr>\n",
       "      <th>2</th>\n",
       "      <td>AK</td>\n",
       "      <td>Juneau</td>\n",
       "      <td>03/30/2011</td>\n",
       "      <td>03/23/2011</td>\n",
       "      <td>Air Filter</td>\n",
       "      <td>pCi/m3</td>\n",
       "      <td>0.0</td>\n",
       "      <td>0.0</td>\n",
       "      <td>0</td>\n",
       "      <td>NaN</td>\n",
       "      <td>0</td>\n",
       "      <td>0</td>\n",
       "      <td>0</td>\n",
       "      <td>0.0</td>\n",
       "      <td>NaN</td>\n",
       "      <td>NaN</td>\n",
       "      <td>0</td>\n",
       "      <td>NaN</td>\n",
       "    </tr>\n",
       "    <tr>\n",
       "      <th>3</th>\n",
       "      <td>AK</td>\n",
       "      <td>Nome</td>\n",
       "      <td>03/30/2011</td>\n",
       "      <td>03/22/2011</td>\n",
       "      <td>Air Filter</td>\n",
       "      <td>pCi/m3</td>\n",
       "      <td>0.0</td>\n",
       "      <td>0.0</td>\n",
       "      <td>0</td>\n",
       "      <td>NaN</td>\n",
       "      <td>0</td>\n",
       "      <td>0</td>\n",
       "      <td>0</td>\n",
       "      <td>0.0</td>\n",
       "      <td>NaN</td>\n",
       "      <td>NaN</td>\n",
       "      <td>0</td>\n",
       "      <td>NaN</td>\n",
       "    </tr>\n",
       "    <tr>\n",
       "      <th>4</th>\n",
       "      <td>AK</td>\n",
       "      <td>Nome</td>\n",
       "      <td>03/30/2011</td>\n",
       "      <td>03/23/2011</td>\n",
       "      <td>Air Filter</td>\n",
       "      <td>pCi/m3</td>\n",
       "      <td>0.0</td>\n",
       "      <td>0.0</td>\n",
       "      <td>0</td>\n",
       "      <td>NaN</td>\n",
       "      <td>0</td>\n",
       "      <td>0</td>\n",
       "      <td>0</td>\n",
       "      <td>0.0</td>\n",
       "      <td>NaN</td>\n",
       "      <td>NaN</td>\n",
       "      <td>0</td>\n",
       "      <td>NaN</td>\n",
       "    </tr>\n",
       "  </tbody>\n",
       "</table>\n",
       "</div>"
      ],
      "text/plain": [
       "  State Location Date Posted Date Collected Sample Type    Unit  Ba-140  \\\n",
       "0    ID    Boise  03/30/2011     03/23/2011  Air Filter  pCi/m3     0.0   \n",
       "1    ID    Boise  03/30/2011     03/23/2011  Air Filter  pCi/m3     0.0   \n",
       "2    AK   Juneau  03/30/2011     03/23/2011  Air Filter  pCi/m3     0.0   \n",
       "3    AK     Nome  03/30/2011     03/22/2011  Air Filter  pCi/m3     0.0   \n",
       "4    AK     Nome  03/30/2011     03/23/2011  Air Filter  pCi/m3     0.0   \n",
       "\n",
       "   Co-60  Cs-134  Cs-136  Cs-137  I-131  I-132  I-133  Te-129  Te-129m  \\\n",
       "0    0.0       0     NaN       0      0      0    0.0     NaN      NaN   \n",
       "1    0.0       0     NaN       0      0      0    0.0     NaN      NaN   \n",
       "2    0.0       0     NaN       0      0      0    0.0     NaN      NaN   \n",
       "3    0.0       0     NaN       0      0      0    0.0     NaN      NaN   \n",
       "4    0.0       0     NaN       0      0      0    0.0     NaN      NaN   \n",
       "\n",
       "   Te-132  Ba-140.1  \n",
       "0       0       NaN  \n",
       "1       0       NaN  \n",
       "2       0       NaN  \n",
       "3       0       NaN  \n",
       "4       0       NaN  "
      ]
     },
     "execution_count": 3,
     "metadata": {},
     "output_type": "execute_result"
    }
   ],
   "source": [
    "import numpy as np\n",
    "import pandas as pd\n",
    "\n",
    "df = pd.read_csv(\"radData.csv\")\n",
    "df.head()"
   ]
  },
  {
   "cell_type": "markdown",
   "metadata": {},
   "source": [
    "Redo all adjustments for the data types (date, numeric, and categorical) in the RadNet data. The type should be the same as in _002_Data_Type_Conversion."
   ]
  },
  {
   "cell_type": "code",
   "execution_count": 4,
   "metadata": {},
   "outputs": [],
   "source": [
    "# Convert 'Date Posted' and 'Date Collected' columns to the datetime datatype\n",
    "df[\"Date Posted\"] = pd.to_datetime(df[\"Date Posted\"])\n",
    "df[\"Date Collected\"] = pd.to_datetime(df[\"Date Collected\"])\n",
    "\n",
    "# Convert all numeric columns to the numeric datatype\n",
    "dfColTypes = df.dtypes\n",
    "dfColTypes = dfColTypes.apply(lambda x: x if x != \"object\" else np.nan)\n",
    "dfColTypes = dfColTypes.apply(lambda x: x if x != \"datetime64[ns]\" else np.nan)\n",
    "dfColTypes = dfColTypes.dropna()\n",
    "columns = list(dfColTypes.index)\n",
    "for col in columns:\n",
    "    df[col] = pd.to_numeric(df[col])\n",
    "\n",
    "# Convert all non-numeric and non-datetime columns to the catergory datatype\n",
    "df[\"State\"] = df[\"State\"].astype('category')\n",
    "df[\"Location\"] = df[\"Location\"].astype('category')\n",
    "df[\"Sample Type\"] = df[\"Sample Type\"].astype('category')\n",
    "df[\"Unit\"] = df[\"Unit\"].astype(\"category\")"
   ]
  },
  {
   "cell_type": "markdown",
   "metadata": {},
   "source": [
    "Select the numeric columns and the categorical columns, creating a list for each of them:\n",
    "NOTE: This was allready done in the previous lines of code using:\n",
    "\n",
    "dfColTypes = df.dtypes\n",
    "dfColTypes = dfColTypes.apply(lambda x: x if x != \"object\" else np.nan)\n",
    "dfColTypes = dfColTypes.apply(lambda x: x if x != \"datetime64[ns]\" else np.nan)\n",
    "\n",
    "dfColTypes = dfColTypes.dropna()\n",
    "\n",
    "columns = list(dfColTypes.index)\n"
   ]
  },
  {
   "cell_type": "code",
   "execution_count": 22,
   "metadata": {},
   "outputs": [
    {
     "name": "stdout",
     "output_type": "stream",
     "text": [
      "['State', 'Location', 'Sample Type', 'Unit']\n",
      "['Date Posted', 'Date Collected']\n",
      "['Ba-140', 'Co-60', 'Cs-134', 'Cs-136', 'Cs-137', 'I-131', 'I-132', 'I-133', 'Te-129', 'Te-129m', 'Te-132', 'Ba-140.1']\n"
     ]
    }
   ],
   "source": [
    "# Create a dataframe of non-numerical columns using the previously created numerical columns list\n",
    "nonNumericalColumns = df[list(set(df.columns) - set(columns))].dtypes\n",
    "# Create a list of categorical columns\n",
    "categoricalColumns = nonNumericalColumns.apply(lambda x: x if x != \"datetime64[ns]\" else np.nan)\n",
    "categoricalColumns = categoricalColumns.dropna()\n",
    "categoricalColumns = list(categoricalColumns.index)\n",
    "# Create a list of datetime columns\n",
    "datetimeColumns = nonNumericalColumns.apply(lambda x: x if x == \"datetime64[ns]\" else np.nan)\n",
    "datetimeColumns = datetimeColumns.dropna()\n",
    "datetimeColumns = list(datetimeColumns.index)\n",
    "# Rename the columns list to \"numericalColumns\" for organizational purposes\n",
    "numericalColumns = columns\n",
    "print(categoricalColumns) \n",
    "print(datetimeColumns)\n",
    "print(numericalColumns)"
   ]
  },
  {
   "cell_type": "markdown",
   "metadata": {},
   "source": [
    "Remove the leading and trailing whitespaces from the categorical columns:"
   ]
  },
  {
   "cell_type": "code",
   "execution_count": 32,
   "metadata": {},
   "outputs": [
    {
     "data": {
      "text/html": [
       "<div>\n",
       "<style scoped>\n",
       "    .dataframe tbody tr th:only-of-type {\n",
       "        vertical-align: middle;\n",
       "    }\n",
       "\n",
       "    .dataframe tbody tr th {\n",
       "        vertical-align: top;\n",
       "    }\n",
       "\n",
       "    .dataframe thead th {\n",
       "        text-align: right;\n",
       "    }\n",
       "</style>\n",
       "<table border=\"1\" class=\"dataframe\">\n",
       "  <thead>\n",
       "    <tr style=\"text-align: right;\">\n",
       "      <th></th>\n",
       "      <th>State</th>\n",
       "      <th>Location</th>\n",
       "      <th>Sample Type</th>\n",
       "      <th>Unit</th>\n",
       "    </tr>\n",
       "  </thead>\n",
       "  <tbody>\n",
       "    <tr>\n",
       "      <th>0</th>\n",
       "      <td>ID</td>\n",
       "      <td>Boise</td>\n",
       "      <td>Air Filter</td>\n",
       "      <td>pCi/m3</td>\n",
       "    </tr>\n",
       "    <tr>\n",
       "      <th>1</th>\n",
       "      <td>ID</td>\n",
       "      <td>Boise</td>\n",
       "      <td>Air Filter</td>\n",
       "      <td>pCi/m3</td>\n",
       "    </tr>\n",
       "    <tr>\n",
       "      <th>2</th>\n",
       "      <td>AK</td>\n",
       "      <td>Juneau</td>\n",
       "      <td>Air Filter</td>\n",
       "      <td>pCi/m3</td>\n",
       "    </tr>\n",
       "    <tr>\n",
       "      <th>3</th>\n",
       "      <td>AK</td>\n",
       "      <td>Nome</td>\n",
       "      <td>Air Filter</td>\n",
       "      <td>pCi/m3</td>\n",
       "    </tr>\n",
       "    <tr>\n",
       "      <th>4</th>\n",
       "      <td>AK</td>\n",
       "      <td>Nome</td>\n",
       "      <td>Air Filter</td>\n",
       "      <td>pCi/m3</td>\n",
       "    </tr>\n",
       "  </tbody>\n",
       "</table>\n",
       "</div>"
      ],
      "text/plain": [
       "  State Location Sample Type    Unit\n",
       "0    ID    Boise  Air Filter  pCi/m3\n",
       "1    ID    Boise  Air Filter  pCi/m3\n",
       "2    AK   Juneau  Air Filter  pCi/m3\n",
       "3    AK     Nome  Air Filter  pCi/m3\n",
       "4    AK     Nome  Air Filter  pCi/m3"
      ]
     },
     "execution_count": 32,
     "metadata": {},
     "output_type": "execute_result"
    }
   ],
   "source": [
    "df.loc[:, categoricalColumns] = df.loc[:,categoricalColumns].applymap(lambda x: x.strip())\n",
    "df.loc[:, categoricalColumns].head()"
   ]
  },
  {
   "cell_type": "markdown",
   "metadata": {},
   "source": [
    "Export our transformed DataFrame, with the right values and columns, to the CSV format with the to_csv function. Exclude the index using index=False, use a semicolon as the separator sep=\";\", and encode the data as UTF-8 encoding=\"utf-8\":"
   ]
  },
  {
   "cell_type": "code",
   "execution_count": 33,
   "metadata": {},
   "outputs": [],
   "source": [
    "df.to_csv('radiation_clean.csv', index=False, sep=';', encoding='utf-8')"
   ]
  },
  {
   "cell_type": "markdown",
   "metadata": {},
   "source": [
    "Export the same DataFrame to the Parquet columnar and binary format with the to_parquet method:"
   ]
  },
  {
   "cell_type": "code",
   "execution_count": 35,
   "metadata": {},
   "outputs": [],
   "source": [
    "# df.to_parquet('radiation_clean.prq', index=False)"
   ]
  },
  {
   "cell_type": "markdown",
   "metadata": {},
   "source": [
    "Final Note!! Be careful when converting datetime to a string"
   ]
  },
  {
   "cell_type": "code",
   "execution_count": null,
   "metadata": {},
   "outputs": [],
   "source": []
  }
 ],
 "metadata": {
  "kernelspec": {
   "display_name": "Python 3",
   "language": "python",
   "name": "python3"
  },
  "language_info": {
   "codemirror_mode": {
    "name": "ipython",
    "version": 3
   },
   "file_extension": ".py",
   "mimetype": "text/x-python",
   "name": "python",
   "nbconvert_exporter": "python",
   "pygments_lexer": "ipython3",
   "version": "3.7.6"
  }
 },
 "nbformat": 4,
 "nbformat_minor": 4
}
