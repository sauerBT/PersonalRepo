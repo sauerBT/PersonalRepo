{
 "cells": [
  {
   "cell_type": "markdown",
   "metadata": {},
   "source": [
    "Data Type Conversion\n",
    "\n",
    "To transform data into different data types, use conversion functions such as to_datetime, to_numeric, or astype\n",
    "\n",
    "Exercise 5: Exploring Data Types\n",
    "\n",
    "Import required libraries"
   ]
  },
  {
   "cell_type": "code",
   "execution_count": 1,
   "metadata": {},
   "outputs": [],
   "source": [
    "import numpy as np\n",
    "import pandas as pd\n",
    "import  matplotlib.pyplot as plt\n",
    "import seaborn as sns"
   ]
  },
  {
   "cell_type": "markdown",
   "metadata": {},
   "source": [
    "Read the data from the dataset as follows"
   ]
  },
  {
   "cell_type": "code",
   "execution_count": 2,
   "metadata": {},
   "outputs": [
    {
     "data": {
      "text/html": [
       "<div>\n",
       "<style scoped>\n",
       "    .dataframe tbody tr th:only-of-type {\n",
       "        vertical-align: middle;\n",
       "    }\n",
       "\n",
       "    .dataframe tbody tr th {\n",
       "        vertical-align: top;\n",
       "    }\n",
       "\n",
       "    .dataframe thead th {\n",
       "        text-align: right;\n",
       "    }\n",
       "</style>\n",
       "<table border=\"1\" class=\"dataframe\">\n",
       "  <thead>\n",
       "    <tr style=\"text-align: right;\">\n",
       "      <th></th>\n",
       "      <th>State</th>\n",
       "      <th>Location</th>\n",
       "      <th>Date Posted</th>\n",
       "      <th>Date Collected</th>\n",
       "      <th>Sample Type</th>\n",
       "      <th>Unit</th>\n",
       "      <th>Ba-140</th>\n",
       "      <th>Co-60</th>\n",
       "      <th>Cs-134</th>\n",
       "      <th>Cs-136</th>\n",
       "      <th>Cs-137</th>\n",
       "      <th>I-131</th>\n",
       "      <th>I-132</th>\n",
       "      <th>I-133</th>\n",
       "      <th>Te-129</th>\n",
       "      <th>Te-129m</th>\n",
       "      <th>Te-132</th>\n",
       "      <th>Ba-140.1</th>\n",
       "    </tr>\n",
       "  </thead>\n",
       "  <tbody>\n",
       "    <tr>\n",
       "      <th>0</th>\n",
       "      <td>ID</td>\n",
       "      <td>Boise</td>\n",
       "      <td>03/30/2011</td>\n",
       "      <td>03/23/2011</td>\n",
       "      <td>Air Filter</td>\n",
       "      <td>pCi/m3</td>\n",
       "      <td>0.0</td>\n",
       "      <td>0.0</td>\n",
       "      <td>0</td>\n",
       "      <td>NaN</td>\n",
       "      <td>0</td>\n",
       "      <td>0</td>\n",
       "      <td>0</td>\n",
       "      <td>0.0</td>\n",
       "      <td>NaN</td>\n",
       "      <td>NaN</td>\n",
       "      <td>0</td>\n",
       "      <td>NaN</td>\n",
       "    </tr>\n",
       "    <tr>\n",
       "      <th>1</th>\n",
       "      <td>ID</td>\n",
       "      <td>Boise</td>\n",
       "      <td>03/30/2011</td>\n",
       "      <td>03/23/2011</td>\n",
       "      <td>Air Filter</td>\n",
       "      <td>pCi/m3</td>\n",
       "      <td>0.0</td>\n",
       "      <td>0.0</td>\n",
       "      <td>0</td>\n",
       "      <td>NaN</td>\n",
       "      <td>0</td>\n",
       "      <td>0</td>\n",
       "      <td>0</td>\n",
       "      <td>0.0</td>\n",
       "      <td>NaN</td>\n",
       "      <td>NaN</td>\n",
       "      <td>0</td>\n",
       "      <td>NaN</td>\n",
       "    </tr>\n",
       "    <tr>\n",
       "      <th>2</th>\n",
       "      <td>AK</td>\n",
       "      <td>Juneau</td>\n",
       "      <td>03/30/2011</td>\n",
       "      <td>03/23/2011</td>\n",
       "      <td>Air Filter</td>\n",
       "      <td>pCi/m3</td>\n",
       "      <td>0.0</td>\n",
       "      <td>0.0</td>\n",
       "      <td>0</td>\n",
       "      <td>NaN</td>\n",
       "      <td>0</td>\n",
       "      <td>0</td>\n",
       "      <td>0</td>\n",
       "      <td>0.0</td>\n",
       "      <td>NaN</td>\n",
       "      <td>NaN</td>\n",
       "      <td>0</td>\n",
       "      <td>NaN</td>\n",
       "    </tr>\n",
       "    <tr>\n",
       "      <th>3</th>\n",
       "      <td>AK</td>\n",
       "      <td>Nome</td>\n",
       "      <td>03/30/2011</td>\n",
       "      <td>03/22/2011</td>\n",
       "      <td>Air Filter</td>\n",
       "      <td>pCi/m3</td>\n",
       "      <td>0.0</td>\n",
       "      <td>0.0</td>\n",
       "      <td>0</td>\n",
       "      <td>NaN</td>\n",
       "      <td>0</td>\n",
       "      <td>0</td>\n",
       "      <td>0</td>\n",
       "      <td>0.0</td>\n",
       "      <td>NaN</td>\n",
       "      <td>NaN</td>\n",
       "      <td>0</td>\n",
       "      <td>NaN</td>\n",
       "    </tr>\n",
       "    <tr>\n",
       "      <th>4</th>\n",
       "      <td>AK</td>\n",
       "      <td>Nome</td>\n",
       "      <td>03/30/2011</td>\n",
       "      <td>03/23/2011</td>\n",
       "      <td>Air Filter</td>\n",
       "      <td>pCi/m3</td>\n",
       "      <td>0.0</td>\n",
       "      <td>0.0</td>\n",
       "      <td>0</td>\n",
       "      <td>NaN</td>\n",
       "      <td>0</td>\n",
       "      <td>0</td>\n",
       "      <td>0</td>\n",
       "      <td>0.0</td>\n",
       "      <td>NaN</td>\n",
       "      <td>NaN</td>\n",
       "      <td>0</td>\n",
       "      <td>NaN</td>\n",
       "    </tr>\n",
       "  </tbody>\n",
       "</table>\n",
       "</div>"
      ],
      "text/plain": [
       "  State Location Date Posted Date Collected Sample Type    Unit  Ba-140  \\\n",
       "0    ID    Boise  03/30/2011     03/23/2011  Air Filter  pCi/m3     0.0   \n",
       "1    ID    Boise  03/30/2011     03/23/2011  Air Filter  pCi/m3     0.0   \n",
       "2    AK   Juneau  03/30/2011     03/23/2011  Air Filter  pCi/m3     0.0   \n",
       "3    AK     Nome  03/30/2011     03/22/2011  Air Filter  pCi/m3     0.0   \n",
       "4    AK     Nome  03/30/2011     03/23/2011  Air Filter  pCi/m3     0.0   \n",
       "\n",
       "   Co-60  Cs-134  Cs-136  Cs-137  I-131  I-132  I-133  Te-129  Te-129m  \\\n",
       "0    0.0       0     NaN       0      0      0    0.0     NaN      NaN   \n",
       "1    0.0       0     NaN       0      0      0    0.0     NaN      NaN   \n",
       "2    0.0       0     NaN       0      0      0    0.0     NaN      NaN   \n",
       "3    0.0       0     NaN       0      0      0    0.0     NaN      NaN   \n",
       "4    0.0       0     NaN       0      0      0    0.0     NaN      NaN   \n",
       "\n",
       "   Te-132  Ba-140.1  \n",
       "0       0       NaN  \n",
       "1       0       NaN  \n",
       "2       0       NaN  \n",
       "3       0       NaN  \n",
       "4       0       NaN  "
      ]
     },
     "execution_count": 2,
     "metadata": {},
     "output_type": "execute_result"
    }
   ],
   "source": [
    "url = \"radData.csv\"\n",
    "df = pd.read_csv(url)\n",
    "df.head()"
   ]
  },
  {
   "cell_type": "markdown",
   "metadata": {},
   "source": [
    "Check current data types using dtypes function on the dataframe"
   ]
  },
  {
   "cell_type": "code",
   "execution_count": 3,
   "metadata": {},
   "outputs": [
    {
     "data": {
      "text/plain": [
       "State              object\n",
       "Location           object\n",
       "Date Posted        object\n",
       "Date Collected     object\n",
       "Sample Type        object\n",
       "Unit               object\n",
       "Ba-140            float64\n",
       "Co-60             float64\n",
       "Cs-134              int64\n",
       "Cs-136            float64\n",
       "Cs-137              int64\n",
       "I-131               int64\n",
       "I-132               int64\n",
       "I-133             float64\n",
       "Te-129            float64\n",
       "Te-129m           float64\n",
       "Te-132              int64\n",
       "Ba-140.1          float64\n",
       "dtype: object"
      ]
     },
     "execution_count": 3,
     "metadata": {},
     "output_type": "execute_result"
    }
   ],
   "source": [
    "df.dtypes"
   ]
  },
  {
   "cell_type": "markdown",
   "metadata": {},
   "source": [
    "Use the to_datetime method to convert the dates from string format to datetime format:"
   ]
  },
  {
   "cell_type": "code",
   "execution_count": 4,
   "metadata": {},
   "outputs": [
    {
     "data": {
      "text/plain": [
       "State                     object\n",
       "Location                  object\n",
       "Date Posted       datetime64[ns]\n",
       "Date Collected    datetime64[ns]\n",
       "Sample Type               object\n",
       "Unit                      object\n",
       "Ba-140                   float64\n",
       "Co-60                    float64\n",
       "Cs-134                     int64\n",
       "Cs-136                   float64\n",
       "Cs-137                     int64\n",
       "I-131                      int64\n",
       "I-132                      int64\n",
       "I-133                    float64\n",
       "Te-129                   float64\n",
       "Te-129m                  float64\n",
       "Te-132                     int64\n",
       "Ba-140.1                 float64\n",
       "dtype: object"
      ]
     },
     "execution_count": 4,
     "metadata": {},
     "output_type": "execute_result"
    }
   ],
   "source": [
    "df[\"Date Posted\"] = pd.to_datetime(df[\"Date Posted\"])\n",
    "df[\"Date Collected\"] = pd.to_datetime(df[\"Date Collected\"])\n",
    "df.dtypes"
   ]
  },
  {
   "cell_type": "markdown",
   "metadata": {},
   "source": [
    "Remove Object and Datetime Columns:"
   ]
  },
  {
   "cell_type": "code",
   "execution_count": 5,
   "metadata": {},
   "outputs": [
    {
     "data": {
      "text/plain": [
       "['Ba-140',\n",
       " 'Co-60',\n",
       " 'Cs-134',\n",
       " 'Cs-136',\n",
       " 'Cs-137',\n",
       " 'I-131',\n",
       " 'I-132',\n",
       " 'I-133',\n",
       " 'Te-129',\n",
       " 'Te-129m',\n",
       " 'Te-132',\n",
       " 'Ba-140.1']"
      ]
     },
     "execution_count": 5,
     "metadata": {},
     "output_type": "execute_result"
    }
   ],
   "source": [
    "dfColTypes = df.dtypes\n",
    "dfColTypes = dfColTypes.apply(lambda x: x if x != \"object\" else np.nan)\n",
    "dfColTypes = dfColTypes.apply(lambda x: x if x != \"datetime64[ns]\" else np.nan)\n",
    "dfColTypes = dfColTypes.dropna()\n",
    "columns = list(dfColTypes.index)\n",
    "columns"
   ]
  },
  {
   "cell_type": "code",
   "execution_count": 8,
   "metadata": {},
   "outputs": [
    {
     "data": {
      "text/plain": [
       "State                     object\n",
       "Location                  object\n",
       "Date Posted       datetime64[ns]\n",
       "Date Collected    datetime64[ns]\n",
       "Sample Type               object\n",
       "Unit                      object\n",
       "Ba-140                   float64\n",
       "Co-60                    float64\n",
       "Cs-134                     int64\n",
       "Cs-136                   float64\n",
       "Cs-137                     int64\n",
       "I-131                      int64\n",
       "I-132                      int64\n",
       "I-133                    float64\n",
       "Te-129                   float64\n",
       "Te-129m                  float64\n",
       "Te-132                     int64\n",
       "Ba-140.1                 float64\n",
       "dtype: object"
      ]
     },
     "execution_count": 8,
     "metadata": {},
     "output_type": "execute_result"
    }
   ],
   "source": [
    "for col in columns:\n",
    "    df[col] = pd.to_numeric(df[col])\n",
    "#Check the data types of each column \n",
    "df.dtypes"
   ]
  },
  {
   "cell_type": "markdown",
   "metadata": {},
   "source": [
    "Use the astype method to transform the columns that are not numeric to the category type:"
   ]
  },
  {
   "cell_type": "code",
   "execution_count": 11,
   "metadata": {},
   "outputs": [
    {
     "data": {
      "text/plain": [
       "State                   category\n",
       "Location                category\n",
       "Date Posted       datetime64[ns]\n",
       "Date Collected    datetime64[ns]\n",
       "Sample Type             category\n",
       "Unit                    category\n",
       "Ba-140                   float64\n",
       "Co-60                    float64\n",
       "Cs-134                     int64\n",
       "Cs-136                   float64\n",
       "Cs-137                     int64\n",
       "I-131                      int64\n",
       "I-132                      int64\n",
       "I-133                    float64\n",
       "Te-129                   float64\n",
       "Te-129m                  float64\n",
       "Te-132                     int64\n",
       "Ba-140.1                 float64\n",
       "dtype: object"
      ]
     },
     "execution_count": 11,
     "metadata": {},
     "output_type": "execute_result"
    }
   ],
   "source": [
    "df[\"State\"] = df[\"State\"].astype('category')\n",
    "df[\"Location\"] = df[\"Location\"].astype('category')\n",
    "df[\"Sample Type\"] = df[\"Sample Type\"].astype('category')\n",
    "df[\"Unit\"] = df[\"Unit\"].astype(\"category\")\n",
    "df.dtypes"
   ]
  },
  {
   "cell_type": "code",
   "execution_count": null,
   "metadata": {},
   "outputs": [],
   "source": []
  }
 ],
 "metadata": {
  "kernelspec": {
   "display_name": "Python 3",
   "language": "python",
   "name": "python3"
  },
  "language_info": {
   "codemirror_mode": {
    "name": "ipython",
    "version": 3
   },
   "file_extension": ".py",
   "mimetype": "text/x-python",
   "name": "python",
   "nbconvert_exporter": "python",
   "pygments_lexer": "ipython3",
   "version": "3.7.6"
  }
 },
 "nbformat": 4,
 "nbformat_minor": 4
}
